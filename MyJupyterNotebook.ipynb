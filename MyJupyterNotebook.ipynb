{
    "cells": [
        {
            "metadata": {
                "collapsed": true
            },
            "cell_type": "markdown",
            "source": "# My Jupyter Notebook on IBM Watson Studio"
        },
        {
            "metadata": {},
            "cell_type": "markdown",
            "source": "**Francis Poku**  \nA Support Engineer"
        },
        {
            "metadata": {},
            "cell_type": "markdown",
            "source": "*I am interested in data science because data in the current paradigm is vital for decision-making.\nAcquiring, refining and churning meaningful interpretations from data is a key part of our lives now.\nI seek to be equipped with enough knowledge to meet this challenge*"
        },
        {
            "metadata": {},
            "cell_type": "markdown",
            "source": "### The code below adds two integers"
        },
        {
            "metadata": {},
            "cell_type": "code",
            "source": "2 + 3",
            "execution_count": 4,
            "outputs": [
                {
                    "output_type": "execute_result",
                    "execution_count": 4,
                    "data": {
                        "text/plain": "5"
                    },
                    "metadata": {}
                }
            ]
        },
        {
            "metadata": {},
            "cell_type": "markdown",
            "source": "\n___\n\n---\n\n**Numbered List: _My Siblings_**\n1. Helen\n2. Beverly\n3. Daniel\n\n**Unordered List: _My Pets_**\n* Juno: _A [Doberman Pinscher](https://www.akc.org/dog-breeds/doberman-pinscher/)_\n* Chico: _A [German Shepherd](https://www.akc.org/dog-breeds/german-shepherd-dog/)_\n* Ni\u00f1a: _A [German Shepherd](https://www.akc.org/dog-breeds/german-shepherd-dog/)_ \n\nThis is a ~~STRIKETHROUGH!~~\n\n***\n___\n"
        }
    ],
    "metadata": {
        "kernelspec": {
            "name": "python3",
            "display_name": "Python 3.7",
            "language": "python"
        },
        "language_info": {
            "name": "python",
            "version": "3.7.9",
            "mimetype": "text/x-python",
            "codemirror_mode": {
                "name": "ipython",
                "version": 3
            },
            "pygments_lexer": "ipython3",
            "nbconvert_exporter": "python",
            "file_extension": ".py"
        }
    },
    "nbformat": 4,
    "nbformat_minor": 1
}